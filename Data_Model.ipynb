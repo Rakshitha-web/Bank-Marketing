{
 "cells": [
  {
   "cell_type": "markdown",
   "metadata": {},
   "source": [
    "# Data Pre-processing and Feature Engineering"
   ]
  },
  {
   "cell_type": "code",
   "execution_count": 34,
   "metadata": {},
   "outputs": [],
   "source": [
    "import pandas as pd\n",
    "import numpy as np\n",
    "\n",
    "data = pd.read_csv(\"DSA Data Set.csv\")"
   ]
  },
  {
   "cell_type": "code",
   "execution_count": 35,
   "metadata": {},
   "outputs": [],
   "source": [
    "data['y'] = data.y.map({'no':0,'yes':1}) "
   ]
  },
  {
   "cell_type": "code",
   "execution_count": 36,
   "metadata": {},
   "outputs": [],
   "source": [
    "data['marital'] = data.marital.map({'divorced':0,'unknown':0,'single':0,'married':1}) "
   ]
  },
  {
   "cell_type": "code",
   "execution_count": 37,
   "metadata": {},
   "outputs": [],
   "source": [
    "data.loc[data['age'] <= 21, 'age'] = 0 \n",
    "data.loc[(data['age'] > 21) & (data['age'] <= 30), 'age'] = 1 \n",
    "data.loc[(data['age'] > 30) & (data['age'] <= 50), 'age'] = 2 \n",
    "data.loc[(data['age'] > 50) & (data['age'] <= 65), 'age'] = 3 \n",
    "data.loc[data['age'] > 65, 'age'] = 4 "
   ]
  },
  {
   "cell_type": "code",
   "execution_count": 38,
   "metadata": {},
   "outputs": [],
   "source": [
    "data['job'] = data.job.map({'admin.':0,'management':0,'housemaid':1,'services':1,'blue-collar':1,'technician':1,'self-employed':2,'entrepreneur':2,'retired':3,'unemployed':3,'unknown':3,'student':4})"
   ]
  },
  {
   "cell_type": "code",
   "execution_count": 39,
   "metadata": {},
   "outputs": [],
   "source": [
    "data['default'] = data.default.map({'no':0,'unknown':0,'yes':1})"
   ]
  },
  {
   "cell_type": "code",
   "execution_count": 40,
   "metadata": {},
   "outputs": [],
   "source": [
    "data['housing'] = data.housing.map({'no':0,'unknown':0,'yes':1})"
   ]
  },
  {
   "cell_type": "code",
   "execution_count": 41,
   "metadata": {},
   "outputs": [],
   "source": [
    "data['loan'] = data.loan.map({'no':0,'unknown':0,'yes':1})"
   ]
  },
  {
   "cell_type": "code",
   "execution_count": 42,
   "metadata": {},
   "outputs": [],
   "source": [
    "data['contact'] = data.contact.map({'telephone':0,'cellular':1})"
   ]
  },
  {
   "cell_type": "code",
   "execution_count": 43,
   "metadata": {},
   "outputs": [],
   "source": [
    "data.loc[data['previous'] == 0, 'previous'] = 0\n",
    "data.loc[data['previous'] > 0, 'previous'] = 1"
   ]
  },
  {
   "cell_type": "code",
   "execution_count": 44,
   "metadata": {},
   "outputs": [],
   "source": [
    "data['month'] = data.month.map({'mar':1,'sep':1,'oct':1,'nov':1,'dec':1,'apr':0,'may':0,'jun':0,'jul':0,'aug':0})"
   ]
  },
  {
   "cell_type": "code",
   "execution_count": 45,
   "metadata": {},
   "outputs": [],
   "source": [
    "data['day_of_week'] = data.day_of_week.map({'mon':0,'tue':1,'wed':2,'thu':3,'fri':4})"
   ]
  },
  {
   "cell_type": "code",
   "execution_count": 46,
   "metadata": {},
   "outputs": [],
   "source": [
    "data['education'] = data.education.map({'basic.4y':0,'basic.6y':0,'basic.9y':0,'high.school':1,'professional.course':1,'university.degree':1,'unknown':2,'illiterate':2})"
   ]
  },
  {
   "cell_type": "code",
   "execution_count": 47,
   "metadata": {},
   "outputs": [],
   "source": [
    "data['poutcome'] = data.poutcome.map({'nonexistent':0,'success':1,'failure':2})"
   ]
  },
  {
   "cell_type": "code",
   "execution_count": 48,
   "metadata": {},
   "outputs": [],
   "source": [
    "data = data.drop(['duration','emp.var.rate', 'cons.price.idx', 'cons.conf.idx', 'euribor3m', 'nr.employed','ModelPrediction','campaign','pdays'], axis = 1)"
   ]
  },
  {
   "cell_type": "code",
   "execution_count": 49,
   "metadata": {},
   "outputs": [],
   "source": [
    "data.to_csv('dsa_data.csv')"
   ]
  },
  {
   "cell_type": "markdown",
   "metadata": {},
   "source": [
    "# Model Building"
   ]
  },
  {
   "cell_type": "code",
   "execution_count": 50,
   "metadata": {},
   "outputs": [],
   "source": [
    "new_data = pd.read_csv(\"dsa_data.csv\")"
   ]
  },
  {
   "cell_type": "code",
   "execution_count": 51,
   "metadata": {},
   "outputs": [],
   "source": [
    "X = new_data.drop(['y'],axis=1)\n",
    "y = new_data['y']"
   ]
  },
  {
   "cell_type": "code",
   "execution_count": 52,
   "metadata": {},
   "outputs": [],
   "source": [
    "from sklearn.model_selection import train_test_split\n",
    "from sklearn.metrics import accuracy_score\n",
    "from sklearn.metrics import recall_score\n",
    "from sklearn.model_selection import GridSearchCV\n",
    "from sklearn.model_selection import StratifiedKFold\n",
    "from sklearn.metrics import classification_report, confusion_matrix\n",
    "\n",
    "from sklearn.linear_model import LogisticRegression\n",
    "from sklearn.tree import DecisionTreeClassifier, export_graphviz\n",
    "from sklearn.svm import SVC"
   ]
  },
  {
   "cell_type": "markdown",
   "metadata": {},
   "source": [
    "## Logistic Regression"
   ]
  },
  {
   "cell_type": "code",
   "execution_count": 67,
   "metadata": {},
   "outputs": [
    {
     "name": "stdout",
     "output_type": "stream",
     "text": [
      "Best Parameter: {'C': 0.1}\n"
     ]
    }
   ],
   "source": [
    "lr_model = LogisticRegression(max_iter=100, solver='lbfgs')\n",
    "\n",
    "param_grid = {'C': [0.1, 0.5, 1, 10, 100]}\n",
    "cv = StratifiedKFold(n_splits=20, random_state=0, shuffle=True)\n",
    "\n",
    "grid = GridSearchCV(lr_model, param_grid, cv = cv, scoring='recall', return_train_score=False)\n",
    "grid.fit(X, y.values.ravel())\n",
    "\n",
    "print(\"Best Parameter: {}\".format(grid.best_params_))"
   ]
  },
  {
   "cell_type": "code",
   "execution_count": 68,
   "metadata": {},
   "outputs": [
    {
     "name": "stdout",
     "output_type": "stream",
     "text": [
      "The accuracy score of Logistic Regression model is: 88.44379703811605\n"
     ]
    }
   ],
   "source": [
    "X_train,X_test,y_train,y_test = train_test_split(X, y, test_size=0.2, random_state=0)\n",
    "\n",
    "lr_model = LogisticRegression(C = 0.1, solver='lbfgs')\n",
    "\n",
    "lr_model.fit(X,y)\n",
    "\n",
    "y_test_hat=lr_model.predict(X_test)\n",
    "\n",
    "print(\"The accuracy score of Logistic Regression model is:\", accuracy_score(y_test,y_test_hat, normalize = True) * 100)"
   ]
  },
  {
   "cell_type": "code",
   "execution_count": 69,
   "metadata": {},
   "outputs": [
    {
     "name": "stdout",
     "output_type": "stream",
     "text": [
      "Confusion Matrix\n",
      "[[7276   43]\n",
      " [ 909   10]]\n",
      "------------------------------------------------------------------------\n",
      "              precision    recall  f1-score   support\n",
      "\n",
      "           0       0.89      0.99      0.94      7319\n",
      "           1       0.19      0.01      0.02       919\n",
      "\n",
      "    accuracy                           0.88      8238\n",
      "   macro avg       0.54      0.50      0.48      8238\n",
      "weighted avg       0.81      0.88      0.84      8238\n",
      "\n"
     ]
    }
   ],
   "source": [
    "from sklearn.metrics import classification_report, confusion_matrix\n",
    "print(\"Confusion Matrix\")\n",
    "print(confusion_matrix(y_test,y_test_hat))\n",
    "print(\"------------------------------------------------------------------------\")\n",
    "print(classification_report(y_test,y_test_hat))"
   ]
  },
  {
   "cell_type": "markdown",
   "metadata": {},
   "source": [
    "## Decision Tree"
   ]
  },
  {
   "cell_type": "markdown",
   "metadata": {},
   "source": [
    "#### Recall"
   ]
  },
  {
   "cell_type": "code",
   "execution_count": 57,
   "metadata": {},
   "outputs": [
    {
     "name": "stdout",
     "output_type": "stream",
     "text": [
      "Best Parameter: {'max_depth': 2}\n",
      "Best Cross Validation Score: 0.3094905340512978\n"
     ]
    }
   ],
   "source": [
    "tree = DecisionTreeClassifier()\n",
    "\n",
    "param_grid = {'max_depth': [2,3,4,5,6,7,8,9,10]}\n",
    "\n",
    "cv = StratifiedKFold(n_splits=15, random_state=0, shuffle=True)\n",
    "grid = GridSearchCV(tree, param_grid, cv = cv, scoring='recall', return_train_score=True)\n",
    "grid.fit(X, y)\n",
    "\n",
    "print(\"Best Parameter: {}\".format(grid.best_params_))\n",
    "print(\"Best Cross Validation Score: {}\".format(grid.best_score_))"
   ]
  },
  {
   "cell_type": "code",
   "execution_count": 58,
   "metadata": {},
   "outputs": [
    {
     "name": "stdout",
     "output_type": "stream",
     "text": [
      "The accuracy score of Decision Tree model is: 89.08715707696044\n"
     ]
    }
   ],
   "source": [
    "X_train,X_test,y_train,y_test=train_test_split(X, y, test_size=0.2, random_state=0)\n",
    "\n",
    "tree = DecisionTreeClassifier(max_depth = 2)\n",
    "\n",
    "tree.fit(X,y)\n",
    "\n",
    "y_test_hat = tree.predict(X_test)\n",
    "\n",
    "print(\"The accuracy score of Decision Tree model is:\", accuracy_score(y_test,y_test_hat, normalize = True) * 100)"
   ]
  },
  {
   "cell_type": "code",
   "execution_count": 59,
   "metadata": {},
   "outputs": [
    {
     "name": "stdout",
     "output_type": "stream",
     "text": [
      "Confusion Matrix\n",
      "[[7055  264]\n",
      " [ 635  284]]\n",
      "------------------------------------------------------------------------\n",
      "              precision    recall  f1-score   support\n",
      "\n",
      "           0       0.92      0.96      0.94      7319\n",
      "           1       0.52      0.31      0.39       919\n",
      "\n",
      "    accuracy                           0.89      8238\n",
      "   macro avg       0.72      0.64      0.66      8238\n",
      "weighted avg       0.87      0.89      0.88      8238\n",
      "\n"
     ]
    }
   ],
   "source": [
    "from sklearn.metrics import classification_report, confusion_matrix\n",
    "print(\"Confusion Matrix\")\n",
    "print(confusion_matrix(y_test,y_test_hat))\n",
    "print(\"------------------------------------------------------------------------\")\n",
    "print(classification_report(y_test,y_test_hat))"
   ]
  },
  {
   "cell_type": "markdown",
   "metadata": {},
   "source": [
    "#### Accuracy"
   ]
  },
  {
   "cell_type": "code",
   "execution_count": 60,
   "metadata": {},
   "outputs": [
    {
     "name": "stdout",
     "output_type": "stream",
     "text": [
      "Best Parameter: {'max_depth': 7}\n",
      "Best Cross Validation Score: 0.8998737496358162\n"
     ]
    }
   ],
   "source": [
    "tree = DecisionTreeClassifier()\n",
    "\n",
    "param_grid = {'max_depth': [2,3,4,5,6,7,8,9,10]}\n",
    "\n",
    "cv = StratifiedKFold(n_splits=15, random_state=0, shuffle=True)\n",
    "grid = GridSearchCV(tree, param_grid, cv = cv, scoring='accuracy', return_train_score=True)\n",
    "grid.fit(X, y)\n",
    "\n",
    "print(\"Best Parameter: {}\".format(grid.best_params_))\n",
    "print(\"Best Cross Validation Score: {}\".format(grid.best_score_))"
   ]
  },
  {
   "cell_type": "code",
   "execution_count": 62,
   "metadata": {},
   "outputs": [
    {
     "name": "stdout",
     "output_type": "stream",
     "text": [
      "The accuracy score of Decision Tree model is: 90.58023792182568\n"
     ]
    }
   ],
   "source": [
    "X_train,X_test,y_train,y_test=train_test_split(X, y, test_size=0.2, random_state=0)\n",
    "\n",
    "tree = DecisionTreeClassifier(max_depth = 7)\n",
    "\n",
    "tree.fit(X,y)\n",
    "\n",
    "y_test_hat = tree.predict(X_test)\n",
    "\n",
    "print(\"The accuracy score of Decision Tree model is:\", accuracy_score(y_test,y_test_hat, normalize = True) * 100)"
   ]
  },
  {
   "cell_type": "code",
   "execution_count": 63,
   "metadata": {},
   "outputs": [
    {
     "name": "stdout",
     "output_type": "stream",
     "text": [
      "Confusion Matrix\n",
      "[[7218  101]\n",
      " [ 675  244]]\n",
      "------------------------------------------------------------------------\n",
      "              precision    recall  f1-score   support\n",
      "\n",
      "           0       0.91      0.99      0.95      7319\n",
      "           1       0.71      0.27      0.39       919\n",
      "\n",
      "    accuracy                           0.91      8238\n",
      "   macro avg       0.81      0.63      0.67      8238\n",
      "weighted avg       0.89      0.91      0.89      8238\n",
      "\n"
     ]
    }
   ],
   "source": [
    "from sklearn.metrics import classification_report, confusion_matrix\n",
    "print(\"Confusion Matrix\")\n",
    "print(confusion_matrix(y_test,y_test_hat))\n",
    "print(\"------------------------------------------------------------------------\")\n",
    "print(classification_report(y_test,y_test_hat))"
   ]
  },
  {
   "cell_type": "markdown",
   "metadata": {},
   "source": [
    "## SVM"
   ]
  },
  {
   "cell_type": "code",
   "execution_count": 64,
   "metadata": {},
   "outputs": [
    {
     "data": {
      "text/plain": [
       "SVC(C=0.1, cache_size=200, class_weight='balanced', coef0=0.0,\n",
       "    decision_function_shape='ovr', degree=3, gamma=0.0005, kernel='rbf',\n",
       "    max_iter=-1, probability=False, random_state=None, shrinking=True,\n",
       "    tol=0.001, verbose=False)"
      ]
     },
     "execution_count": 64,
     "metadata": {},
     "output_type": "execute_result"
    }
   ],
   "source": [
    "X_train, X_test, y_train, y_test = train_test_split(X, y, test_size=0.2, random_state=0, stratify = y)\n",
    "\n",
    "svm = SVC(kernel='rbf',  class_weight='balanced', C = 0.1,gamma = 0.0005)\n",
    "\n",
    "svm.fit(X_train, y_train)"
   ]
  },
  {
   "cell_type": "code",
   "execution_count": 65,
   "metadata": {},
   "outputs": [
    {
     "data": {
      "text/plain": [
       "83.98883224083515"
      ]
     },
     "execution_count": 65,
     "metadata": {},
     "output_type": "execute_result"
    }
   ],
   "source": [
    "y_test_hat=svm.predict(X_test)\n",
    "accuracy_score(y_test,y_test_hat, normalize = True) * 100"
   ]
  },
  {
   "cell_type": "code",
   "execution_count": 66,
   "metadata": {},
   "outputs": [
    {
     "name": "stdout",
     "output_type": "stream",
     "text": [
      "Confusion Matrix\n",
      "[[6333  977]\n",
      " [ 342  586]]\n",
      "------------------------------------------------------------------------\n",
      "              precision    recall  f1-score   support\n",
      "\n",
      "           0       0.95      0.87      0.91      7310\n",
      "           1       0.37      0.63      0.47       928\n",
      "\n",
      "    accuracy                           0.84      8238\n",
      "   macro avg       0.66      0.75      0.69      8238\n",
      "weighted avg       0.88      0.84      0.86      8238\n",
      "\n"
     ]
    }
   ],
   "source": [
    "from sklearn.metrics import classification_report, confusion_matrix\n",
    "print(\"Confusion Matrix\")\n",
    "print(confusion_matrix(y_test,y_test_hat))\n",
    "print(\"------------------------------------------------------------------------\")\n",
    "print(classification_report(y_test,y_test_hat))"
   ]
  },
  {
   "cell_type": "code",
   "execution_count": null,
   "metadata": {},
   "outputs": [],
   "source": []
  },
  {
   "cell_type": "code",
   "execution_count": null,
   "metadata": {},
   "outputs": [],
   "source": []
  }
 ],
 "metadata": {
  "kernelspec": {
   "display_name": "Python 3",
   "language": "python",
   "name": "python3"
  },
  "language_info": {
   "codemirror_mode": {
    "name": "ipython",
    "version": 3
   },
   "file_extension": ".py",
   "mimetype": "text/x-python",
   "name": "python",
   "nbconvert_exporter": "python",
   "pygments_lexer": "ipython3",
   "version": "3.7.4"
  }
 },
 "nbformat": 4,
 "nbformat_minor": 4
}
